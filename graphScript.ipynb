{
 "cells": [
  {
   "cell_type": "code",
   "execution_count": 1,
   "metadata": {},
   "outputs": [],
   "source": [
    "import matplotlib.pyplot as plt\n",
    "import numpy as np\n",
    "from mpl_toolkits import mplot3d"
   ]
  },
  {
   "cell_type": "code",
   "execution_count": 2,
   "metadata": {},
   "outputs": [],
   "source": [
    "ax = plt"
   ]
  },
  {
   "cell_type": "code",
   "execution_count": 3,
   "metadata": {},
   "outputs": [
    {
     "ename": "NameError",
     "evalue": "name 'graphtype' is not defined",
     "output_type": "error",
     "traceback": [
      "\u001b[1;31m---------------------------------------------------------------------------\u001b[0m",
      "\u001b[1;31mNameError\u001b[0m                                 Traceback (most recent call last)",
      "Cell \u001b[1;32mIn[3], line 1\u001b[0m\n\u001b[1;32m----> 1\u001b[0m \u001b[39mif\u001b[39;00m graphtype \u001b[39m==\u001b[39m \u001b[39m'\u001b[39m\u001b[39m2d\u001b[39m\u001b[39m'\u001b[39m \u001b[39mand\u001b[39;00m dataType \u001b[39m==\u001b[39m \u001b[39m'\u001b[39m\u001b[39mpoint\u001b[39m\u001b[39m'\u001b[39m:\n\u001b[0;32m      2\u001b[0m     ax\u001b[39m.\u001b[39mscatter(x2DPoints, y2DPoints, lineType)\n\u001b[0;32m      3\u001b[0m     ax\u001b[39m.\u001b[39mylabel(yLabel)\n",
      "\u001b[1;31mNameError\u001b[0m: name 'graphtype' is not defined"
     ]
    }
   ],
   "source": [
    "if graphtype == '2d' and dataType == 'point':\n",
    "    ax.scatter(x2DPoints, y2DPoints, lineType)\n",
    "    ax.ylabel(yLabel)\n",
    "    ax.show()\n",
    "elif graphtype == '2d' and dataType == 'line':\n",
    "    ax.plot(x2DPoints, y2DPoints, lineType)\n",
    "    ax.ylabel(yLabel)\n",
    "    ax.xlabel(xLabel)\n",
    "    ax.show()\n",
    "elif graphtype =='2d' and dataType == 'function':\n",
    "    ax.plot(x2Dfunc, f(x2Dfunc))\n",
    "    ax.xlabel(xLabel)\n",
    "    ax.ylabel(yLabel)\n",
    "    ax.show()\n",
    "elif graphtype == '2d' and dataType == 'multiFunction':\n",
    "    # To use less than four functions simply comment out the unused functions\n",
    "    ax.plot(x2Dfunc, y1(x2Dfunc))\n",
    "    ax.plot(x2Dfunc, y2(x2Dfunc))\n",
    "    ax.plot(x2Dfunc, y3(x2Dfunc))\n",
    "    ax.plot(x2Dfunc, y4(x2Dfunc))\n",
    "    ax.show()\n",
    "elif graphtype == '3d' and dataType == 'point':\n",
    "    ax = ax.figure().add_subplot(projection=graphtype)\n",
    "    ax.scatter(x3D, y3D, z3D)\n",
    "    ax.view_init(elev=elev, azim=azim, roll=roll)\n",
    "    ax.show()\n",
    "elif graphtype == '3d' and dataType == 'function':\n",
    "    ax = ax.figure().add_subplot(projection=graphtype)\n",
    "    ax.plot(xFunc(z3Dfunc), yFunc(z3Dfunc), z3Dfunc)\n",
    "    ax.view_init(elev=elev, azim=azim, roll=roll)"
   ]
  }
 ],
 "metadata": {
  "kernelspec": {
   "display_name": "Python 3",
   "language": "python",
   "name": "python3"
  },
  "language_info": {
   "codemirror_mode": {
    "name": "ipython",
    "version": 3
   },
   "file_extension": ".py",
   "mimetype": "text/x-python",
   "name": "python",
   "nbconvert_exporter": "python",
   "pygments_lexer": "ipython3",
   "version": "3.11.2"
  },
  "orig_nbformat": 4
 },
 "nbformat": 4,
 "nbformat_minor": 2
}
