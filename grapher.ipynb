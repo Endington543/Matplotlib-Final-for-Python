{
 "cells": [
  {
   "cell_type": "code",
   "execution_count": 3,
   "metadata": {},
   "outputs": [
    {
     "name": "stdout",
     "output_type": "stream",
     "text": [
      "Requirement already satisfied: matplotlib in c:\\users\\princ\\appdata\\local\\programs\\python\\python311\\lib\\site-packages (3.7.1)\n",
      "Requirement already satisfied: sympy in c:\\users\\princ\\appdata\\local\\programs\\python\\python311\\lib\\site-packages (1.11.1)\n",
      "Requirement already satisfied: contourpy>=1.0.1 in c:\\users\\princ\\appdata\\local\\programs\\python\\python311\\lib\\site-packages (from matplotlib) (1.0.7)\n",
      "Requirement already satisfied: cycler>=0.10 in c:\\users\\princ\\appdata\\local\\programs\\python\\python311\\lib\\site-packages (from matplotlib) (0.11.0)\n",
      "Requirement already satisfied: fonttools>=4.22.0 in c:\\users\\princ\\appdata\\local\\programs\\python\\python311\\lib\\site-packages (from matplotlib) (4.39.3)\n",
      "Requirement already satisfied: kiwisolver>=1.0.1 in c:\\users\\princ\\appdata\\local\\programs\\python\\python311\\lib\\site-packages (from matplotlib) (1.4.4)\n",
      "Requirement already satisfied: numpy>=1.20 in c:\\users\\princ\\appdata\\local\\programs\\python\\python311\\lib\\site-packages (from matplotlib) (1.24.2)\n",
      "Requirement already satisfied: packaging>=20.0 in c:\\users\\princ\\appdata\\local\\programs\\python\\python311\\lib\\site-packages (from matplotlib) (23.0)\n",
      "Requirement already satisfied: pillow>=6.2.0 in c:\\users\\princ\\appdata\\local\\programs\\python\\python311\\lib\\site-packages (from matplotlib) (9.5.0)\n",
      "Requirement already satisfied: pyparsing>=2.3.1 in c:\\users\\princ\\appdata\\local\\programs\\python\\python311\\lib\\site-packages (from matplotlib) (3.0.9)\n",
      "Requirement already satisfied: python-dateutil>=2.7 in c:\\users\\princ\\appdata\\local\\programs\\python\\python311\\lib\\site-packages (from matplotlib) (2.8.2)\n",
      "Requirement already satisfied: mpmath>=0.19 in c:\\users\\princ\\appdata\\local\\programs\\python\\python311\\lib\\site-packages (from sympy) (1.3.0)\n",
      "Requirement already satisfied: six>=1.5 in c:\\users\\princ\\appdata\\local\\programs\\python\\python311\\lib\\site-packages (from python-dateutil>=2.7->matplotlib) (1.16.0)\n",
      "Note: you may need to restart the kernel to use updated packages.\n"
     ]
    },
    {
     "name": "stderr",
     "output_type": "stream",
     "text": [
      "\n",
      "[notice] A new release of pip is available: 23.1.1 -> 23.1.2\n",
      "[notice] To update, run: python.exe -m pip install --upgrade pip\n"
     ]
    }
   ],
   "source": [
    "%pip install matplotlib sympy"
   ]
  },
  {
   "cell_type": "code",
   "execution_count": 4,
   "metadata": {},
   "outputs": [],
   "source": [
    "import matplotlib.pyplot as plt\n",
    "import numpy as np\n",
    "from mpl_toolkits import mplot3d\n",
    "import sympy"
   ]
  },
  {
   "cell_type": "code",
   "execution_count": 17,
   "metadata": {},
   "outputs": [],
   "source": [
    "# Camera stuff\n",
    "elev = 15.\n",
    "azim = -20\n",
    "roll = 0\n",
    "\n",
    "# Make sure to put all mathematical equations in numpy format\n",
    "\n",
    "def f(xVal):\n",
    "    return np.cos(xVal)\n",
    "\n",
    "graphtype = '2d'\n",
    "dataType = 'multifunction'\n",
    "# Go to this link for details on all 2D line type tags\n",
    "# https://matplotlib.org/stable/api/_as_gen/matplotlib.lines.Line2D.html#matplotlib.lines.Line2D   \n",
    "lineType = 'red'\n",
    "\n",
    "x3D = [4];\n",
    "y3D = [3];\n",
    "z3D = [3];\n",
    "\n",
    "xLabel = 'Test'\n",
    "yLabel = 'Test'\n",
    "zLabel = 'Test'\n",
    "\n",
    "x2DPoints = [2, 3, 4, 5]\n",
    "y2DPoints = [1, 2, 3, 4]\n",
    "\n",
    "# Minimum x value in function\n",
    "x2DfuncStart = 0\n",
    "# Maximum x value in function\n",
    "x2DfuncStop = 10\n",
    "# Number of samples to generate default is 50 more samples means greater detail\n",
    "x2DfuncSamples = 200\n",
    "\n",
    "x2Dfunc = np.linspace(x2DfuncStart, x2DfuncStop, x2DfuncSamples)\n",
    "\n",
    "# Minimum Z value in 3d function\n",
    "z3DfuncStart = 0\n",
    "# Maximum Z value in 3d function\n",
    "z3DfuncStop = 10\n",
    "# Number of samples to generate default is 50 more samples means greater detail\n",
    "z3DfuncSamples = 200\n",
    "\n",
    "z3Dfunc = np.linspace(z3DfuncStart, z3DfuncStop, z3DfuncSamples)\n",
    "\n",
    "# Four functions for multifunction graphing\n",
    "def y1(xVals):\n",
    "    global y1Expr, y1Vals\n",
    "    y1Vals = []\n",
    "    x = sympy.Symbol('x')\n",
    "    y1Expr = sympy.Pow(x, 2) + 1\n",
    "    for item in xVals:\n",
    "        result = y1Expr.subs(x, item)\n",
    "        y1Vals.append(result)\n",
    "    return y1Vals\n",
    "def y2(xVals):\n",
    "    global y2Expr, y2Vals\n",
    "    y2Vals = []\n",
    "    x = sympy.Symbol('x')\n",
    "    y2Expr = sympy.cos(x)\n",
    "    for item in xVals:\n",
    "        result = y2Expr.subs(x, item)\n",
    "        y2Vals.append(result)\n",
    "    return y2Vals\n",
    "def y3(xVals):\n",
    "    global y3Expr, y3Vals\n",
    "    y3Vals = []\n",
    "    x = sympy.Symbol('x')\n",
    "    y3Expr = sympy.cos(1.5*x)\n",
    "    for item in xVals:\n",
    "        result = y3Expr.subs(x, item)\n",
    "        y3Vals.append(result)\n",
    "    return y3Vals\n",
    "def y4(xVals):\n",
    "    global y4Expr, y4Vals\n",
    "    y4Vals = []\n",
    "    x = sympy.Symbol('x')\n",
    "    y4Expr = sympy.cos(2*x)\n",
    "    for item in xVals:\n",
    "        result = y4Expr.subs(x, item)\n",
    "        y4Vals.append(result)\n",
    "    return y4Vals\n",
    "\n",
    "# Functions for 3D graphing\n",
    "def xFunc(zVals):\n",
    "    global x3DExpr, x3DVals\n",
    "    x3DVals = []\n",
    "    z = sympy.Symbol('z')\n",
    "    x3DExpr = 3*z + 1\n",
    "    for item in zVals:\n",
    "        result  = x3DExpr.subs(z, item)\n",
    "        x3DVals.append(result)\n",
    "    return x3DVals\n",
    "\n",
    "def yFunc(zVal):\n",
    "    return np.sin(zVal)\n",
    "\n",
    "# Functions for calculus\n",
    "def calc(xVal):\n",
    "    global yVals, c_expr, expr\n",
    "    yVals = []\n",
    "    x = sympy.Symbol('x')\n",
    "    expr = x**3 + x**2 + 2*x + 3\n",
    "    c_expr = sympy.diff(expr, x)\n",
    "    for item in xVal:\n",
    "        result = c_expr.subs(x, item)\n",
    "        yVals.append(result)\n",
    "    return yVals"
   ]
  },
  {
   "cell_type": "code",
   "execution_count": 18,
   "metadata": {},
   "outputs": [
    {
     "data": {
      "image/png": "[encoded data removed]",
      "text/plain": [
       "<Figure size 640x480 with 1 Axes>"
      ]
     },
     "metadata": {},
     "output_type": "display_data"
    }
   ],
   "source": [
    "%run graphScript.ipynb"
   ]
  },
  {
   "cell_type": "code",
   "execution_count": null,
   "metadata": {},
   "outputs": [],
   "source": []
  }
 ],
 "metadata": {
  "kernelspec": {
   "display_name": "Python 3",
   "language": "python",
   "name": "python3"
  },
  "language_info": {
   "codemirror_mode": {
    "name": "ipython",
    "version": 3
   },
   "file_extension": ".py",
   "mimetype": "text/x-python",
   "name": "python",
   "nbconvert_exporter": "python",
   "pygments_lexer": "ipython3",
   "version": "3.11.2"
  },
  "orig_nbformat": 4
 },
 "nbformat": 4,
 "nbformat_minor": 2
}
