{
 "cells": [
  {
   "cell_type": "code",
   "execution_count": 3,
   "metadata": {},
   "outputs": [],
   "source": [
    "import matplotlib.pyplot as plt\n",
    "import numpy as np\n",
    "from mpl_toolkits import mplot3d"
   ]
  },
  {
   "cell_type": "code",
   "execution_count": 85,
   "metadata": {},
   "outputs": [],
   "source": [
    "# Make sure to put all mathematical equations in numpy format\n",
    "\n",
    "def f(xVal):\n",
    "    return np.cos(xVal)\n",
    "\n",
    "graphtype = '2d'\n",
    "dataType = 'line'\n",
    "# Go to this link for details on all 2D line type tags\n",
    "# https://matplotlib.org/stable/api/_as_gen/matplotlib.lines.Line2D.html#matplotlib.lines.Line2D   \n",
    "lineType = 'b-'\n",
    "\n",
    "x3D = 4;\n",
    "y3D = 3;\n",
    "z3D = 3;\n",
    "\n",
    "xLabel = 'Test'\n",
    "yLabel = 'Test'\n",
    "zLabel = 'Test'\n",
    "\n",
    "x2D = [2, 3, 4, 5]\n",
    "y2D = [1, 2, 3, 4]\n",
    "\n",
    "# Minimum x value in function\n",
    "x2DfuncStart = 0\n",
    "# Maximum x value in function\n",
    "x2DfuncStop = 10\n",
    "# Number of samples to generate default is 50 more samples means greater detail\n",
    "x2DfuncSamples = 200\n",
    "\n",
    "x2Dfunc = np.linspace(x2DfuncStart, x2DfuncStop, x2DfuncSamples)\n",
    "\n",
    "# Four functions for multifunction graphing\n",
    "def y1(xVal):\n",
    "    return np.cos(0.5*xVal)\n",
    "def y2(xVal):\n",
    "    return np.cos(xVal)\n",
    "def y3(xVal):\n",
    "    return np.cos(1.5*xVal)\n",
    "def y4(xVal):\n",
    "    return np.cos(2*xVal)"
   ]
  },
  {
   "cell_type": "code",
   "execution_count": 86,
   "metadata": {},
   "outputs": [],
   "source": [
    "ax = plt"
   ]
  },
  {
   "cell_type": "code",
   "execution_count": 87,
   "metadata": {},
   "outputs": [
    {
     "data": {
      "image/png": "[encoded data removed]",
      "text/plain": [
       "<Figure size 640x480 with 1 Axes>"
      ]
     },
     "metadata": {},
     "output_type": "display_data"
    }
   ],
   "source": [
    "if graphtype == '2d' and dataType == 'point':\n",
    "    ax.scatter(x2D, y2D, lineType)\n",
    "    ax.ylabel(yLabel)\n",
    "    ax.show()\n",
    "elif graphtype == '2d' and dataType == 'line':\n",
    "    ax.plot(x2D, y2D, lineType)\n",
    "    ax.ylabel(yLabel)\n",
    "    ax.xlabel(xLabel)\n",
    "    ax.show()\n",
    "elif graphtype =='2d' and dataType == 'function':\n",
    "    ax.plot(x2Dfunc, f(x2Dfunc))\n",
    "    ax.xlabel(xLabel)\n",
    "    ax.ylabel(yLabel)\n",
    "    ax.show()\n",
    "elif graphtype == '2d' and dataType == 'multiFunction':\n",
    "    # To use less than four functions simply comment out the unused functions\n",
    "    ax.plot(x2Dfunc, y1(x2Dfunc))\n",
    "    ax.plot(x2Dfunc, y2(x2Dfunc))\n",
    "    ax.plot(x2Dfunc, y3(x2Dfunc))\n",
    "    ax.plot(x2Dfunc, y4(x2Dfunc))\n",
    "    ax.show()\n",
    "elif graphtype == '3d' and dataType == 'point':\n",
    "    ax = ax.figure().add_subplot(projection=graphtype)\n",
    "    ax.scatter(x3D, y3D, z3D)\n",
    "    ax.view_init(elev=20., azim=-35, roll=0)\n",
    "    ax.show()\n",
    "elif graphtype == '3d' and dataType == 'function':\n",
    "    ax = ax.figure().add_subplot(projection=graphtype)\n",
    "    ax.plot(x3D, y3D, z3D)\n",
    "    ax.view_init(elev=20., azim=-35, roll=0)"
   ]
  },
  {
   "cell_type": "code",
   "execution_count": null,
   "metadata": {},
   "outputs": [],
   "source": []
  }
 ],
 "metadata": {
  "kernelspec": {
   "display_name": "Python 3",
   "language": "python",
   "name": "python3"
  },
  "language_info": {
   "codemirror_mode": {
    "name": "ipython",
    "version": 3
   },
   "file_extension": ".py",
   "mimetype": "text/x-python",
   "name": "python",
   "nbconvert_exporter": "python",
   "pygments_lexer": "ipython3",
   "version": "3.11.2"
  },
  "orig_nbformat": 4
 },
 "nbformat": 4,
 "nbformat_minor": 2
}
